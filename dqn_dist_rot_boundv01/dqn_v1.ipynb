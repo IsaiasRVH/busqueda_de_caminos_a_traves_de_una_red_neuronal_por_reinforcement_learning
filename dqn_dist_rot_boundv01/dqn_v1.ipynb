{
 "cells": [
  {
   "cell_type": "code",
   "execution_count": 1,
   "id": "144ac849",
   "metadata": {},
   "outputs": [],
   "source": [
    "import matplotlib.pyplot as plt\n",
    "import time\n",
    "import gym"
   ]
  },
  {
   "cell_type": "code",
   "execution_count": 2,
   "id": "1acac992",
   "metadata": {},
   "outputs": [],
   "source": [
    "env = gym.make('virtualworld-v0')"
   ]
  },
  {
   "cell_type": "code",
   "execution_count": null,
   "id": "0a3d8a11",
   "metadata": {},
   "outputs": [],
   "source": [
    "from tensorflow.keras.models import Sequential\n",
    "from tensorflow.keras.layers import Flatten, Dense, Activation\n",
    "from tensorflow.keras.optimizers import Adam\n",
    "\n",
    "from rl.agents import DQNAgent"
   ]
  },
  {
   "cell_type": "code",
   "execution_count": null,
   "id": "9f2760f0",
   "metadata": {},
   "outputs": [],
   "source": [
    "model = Sequential()\n",
    "\n",
    "model.add(Flatten(input_shape=(1,)+(6,)))\n",
    "\n",
    "model.add(Dense(128, activation='relu'))\n",
    "\n",
    "model.add(Dense(254, activation='relu'))\n",
    "\n",
    "model.add(Dense(254, activation='relu'))\n",
    "\n",
    "model.add(Dense(128, activation='relu'))\n",
    "\n",
    "model.add(Dense(3, activation='linear'))"
   ]
  },
  {
   "cell_type": "code",
   "execution_count": null,
   "id": "9e948ab1",
   "metadata": {},
   "outputs": [],
   "source": [
    "model.summary()"
   ]
  },
  {
   "cell_type": "code",
   "execution_count": null,
   "id": "a86d5c45",
   "metadata": {},
   "outputs": [],
   "source": [
    "from rl.memory import SequentialMemory\n",
    "\n",
    "memory = SequentialMemory(limit=1500000, window_length=1)"
   ]
  },
  {
   "cell_type": "code",
   "execution_count": null,
   "id": "eb027af8",
   "metadata": {},
   "outputs": [],
   "source": [
    "from rl.policy import LinearAnnealedPolicy, EpsGreedyQPolicy\n",
    "policy = LinearAnnealedPolicy(EpsGreedyQPolicy(),\n",
    "                             attr='eps', \n",
    "                             value_max=1.0,\n",
    "                             value_min=0.1,\n",
    "                             value_test=0.05,\n",
    "                             nb_steps=3000000)"
   ]
  },
  {
   "cell_type": "code",
   "execution_count": null,
   "id": "71170b9c",
   "metadata": {},
   "outputs": [],
   "source": [
    "dqn = DQNAgent(model=model,\n",
    "              policy=policy, \n",
    "              nb_actions=3,\n",
    "              memory=memory,\n",
    "              nb_steps_warmup=1000,\n",
    "              target_model_update=5000,\n",
    "              batch_size=64,\n",
    "              gamma=0.99)"
   ]
  },
  {
   "cell_type": "code",
   "execution_count": null,
   "id": "4cc0bd85",
   "metadata": {},
   "outputs": [],
   "source": [
    "dqn.compile(Adam(learning_rate=1e-3), metrics=['mae'])"
   ]
  },
  {
   "cell_type": "code",
   "execution_count": null,
   "id": "b0b9eaba",
   "metadata": {},
   "outputs": [],
   "source": []
  },
  {
   "cell_type": "code",
   "execution_count": null,
   "id": "75a5337d",
   "metadata": {},
   "outputs": [],
   "source": []
  },
  {
   "cell_type": "code",
   "execution_count": null,
   "id": "c1d329c0",
   "metadata": {},
   "outputs": [],
   "source": [
    "dqn.fit(env, nb_steps=6000000, visualize=False, verbose=1.0)\n",
    "\n",
    "        \n"
   ]
  },
  {
   "cell_type": "code",
   "execution_count": null,
   "id": "187ef2e0",
   "metadata": {},
   "outputs": [],
   "source": [
    "dqn.save_weights(\"dqn_v0.0.1.h5f\", overwrite=True)"
   ]
  },
  {
   "cell_type": "code",
   "execution_count": null,
   "id": "a69cc948",
   "metadata": {},
   "outputs": [],
   "source": [
    "dqn.test(env, nb_episodes=1, visualize=True)\n",
    "env.close()"
   ]
  },
  {
   "cell_type": "code",
   "execution_count": 7,
   "id": "29643041",
   "metadata": {},
   "outputs": [
    {
     "data": {
      "text/plain": [
       "<matplotlib.collections.PathCollection at 0x224d0f90250>"
      ]
     },
     "execution_count": 7,
     "metadata": {},
     "output_type": "execute_result"
    },
    {
     "data": {
      "image/png": "[encoded data removed]",
      "text/plain": [
       "<Figure size 432x288 with 1 Axes>"
      ]
     },
     "metadata": {
      "needs_background": "light"
     },
     "output_type": "display_data"
    }
   ],
   "source": [
    "plt.ion()\n",
    "\n",
    "observation = env.reset()\n",
    "env.sleep = 0.5\n",
    "\n",
    "fig = plt.figure()\n",
    "\n",
    "axes = fig.add_axes([0,0,1,1])\n",
    "axes.set_aspect('equal')#set the x and y axes to the same scale\n",
    "axes.pcolormesh(env.world)\n",
    "axes.scatter(env.world_objective[0], env.world_objective[1], color='r')\n",
    "\n",
    "agent_path_x = []\n",
    "agent_path_y = []\n",
    "\n",
    "rewards = []\n",
    "actions = []\n",
    "for i in range(300):   \n",
    "    agent_path_x.append(env.agent_pos[0])\n",
    "    agent_path_y.append(env.agent_pos[1])\n",
    "    \n",
    "    action = env.action_space.sample()\n",
    "    \n",
    "    observation, reward, done, info = env.step(action)\n",
    "    \n",
    "    rewards.append(reward)\n",
    "    actions.append(action)\n",
    "\n",
    "axes.scatter(agent_path_x, agent_path_y)"
   ]
  },
  {
   "cell_type": "code",
   "execution_count": null,
   "id": "4a5cb9e8",
   "metadata": {},
   "outputs": [],
   "source": []
  },
  {
   "cell_type": "code",
   "execution_count": null,
   "id": "ec0fe1d9",
   "metadata": {},
   "outputs": [],
   "source": []
  }
 ],
 "metadata": {
  "kernelspec": {
   "display_name": "Python 3 (ipykernel)",
   "language": "python",
   "name": "python3"
  },
  "language_info": {
   "codemirror_mode": {
    "name": "ipython",
    "version": 3
   },
   "file_extension": ".py",
   "mimetype": "text/x-python",
   "name": "python",
   "nbconvert_exporter": "python",
   "pygments_lexer": "ipython3",
   "version": "3.8.13"
  }
 },
 "nbformat": 4,
 "nbformat_minor": 5
}
