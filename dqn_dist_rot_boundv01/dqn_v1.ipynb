{
 "cells": [
  {
   "cell_type": "code",
   "execution_count": 2,
   "id": "0a3d8a11",
   "metadata": {},
   "outputs": [],
   "source": [
    "from tensorflow.keras.models import Sequential\n",
    "from tensorflow.keras.layers import Flatten, Dense, Activation\n",
    "from tensorflow.keras.optimizers import Adam\n",
    "\n",
    "from rl.agents import DQNAgent"
   ]
  },
  {
   "cell_type": "code",
   "execution_count": 5,
   "id": "9f2760f0",
   "metadata": {},
   "outputs": [],
   "source": [
    "model = Sequential()\n",
    "\n",
    "model.add(Flatten(input_shape=(1,)+(6,)))\n",
    "\n",
    "model.add(Dense(128, activation='relu'))\n",
    "\n",
    "model.add(Dense(254, activation='relu'))\n",
    "\n",
    "model.add(Dense(254, activation='relu'))\n",
    "\n",
    "model.add(Dense(128, activation='relu'))\n",
    "\n",
    "model.add(Dense(3, activation='linear'))"
   ]
  },
  {
   "cell_type": "code",
   "execution_count": 6,
   "id": "9e948ab1",
   "metadata": {},
   "outputs": [
    {
     "name": "stdout",
     "output_type": "stream",
     "text": [
      "Model: \"sequential_1\"\n",
      "_________________________________________________________________\n",
      "Layer (type)                 Output Shape              Param #   \n",
      "=================================================================\n",
      "flatten_1 (Flatten)          (None, 6)                 0         \n",
      "_________________________________________________________________\n",
      "dense_3 (Dense)              (None, 128)               896       \n",
      "_________________________________________________________________\n",
      "dense_4 (Dense)              (None, 254)               32766     \n",
      "_________________________________________________________________\n",
      "dense_5 (Dense)              (None, 254)               64770     \n",
      "_________________________________________________________________\n",
      "dense_6 (Dense)              (None, 128)               32640     \n",
      "_________________________________________________________________\n",
      "dense_7 (Dense)              (None, 3)                 387       \n",
      "=================================================================\n",
      "Total params: 131,459\n",
      "Trainable params: 131,459\n",
      "Non-trainable params: 0\n",
      "_________________________________________________________________\n"
     ]
    }
   ],
   "source": [
    "model.summary()"
   ]
  },
  {
   "cell_type": "code",
   "execution_count": 7,
   "id": "a86d5c45",
   "metadata": {},
   "outputs": [],
   "source": [
    "from rl.memory import SequentialMemory\n",
    "\n",
    "memory = SequentialMemory(limit=150000, window_length=1)"
   ]
  },
  {
   "cell_type": "code",
   "execution_count": 11,
   "id": "eb027af8",
   "metadata": {},
   "outputs": [],
   "source": [
    "from rl.policy import LinearAnnealedPolicy, EpsGreedyQPolicy\n",
    "policy = LinearAnnealedPolicy(EpsGreedyQPolicy(),\n",
    "                             attr='eps', \n",
    "                             value_max=1.0,\n",
    "                             value_min=0.1,\n",
    "                             value_test=0.05,\n",
    "                             nb_steps=300000)"
   ]
  },
  {
   "cell_type": "code",
   "execution_count": 12,
   "id": "71170b9c",
   "metadata": {},
   "outputs": [],
   "source": [
    "dqn = DQNAgent(model=model,\n",
    "              policy=policy, \n",
    "              nb_actions=3,\n",
    "              memory=memory,\n",
    "              nb_steps_warmup=1000,\n",
    "              target_model_update=5000,\n",
    "              batch_size=64,\n",
    "              gamma=0.99)"
   ]
  },
  {
   "cell_type": "code",
   "execution_count": 13,
   "id": "4cc0bd85",
   "metadata": {},
   "outputs": [],
   "source": [
    "dqn.compile(Adam(learning_rate=1e-3), metrics=['mae'])"
   ]
  },
  {
   "cell_type": "code",
   "execution_count": null,
   "id": "08aa8bfe",
   "metadata": {},
   "outputs": [],
   "source": []
  }
 ],
 "metadata": {
  "kernelspec": {
   "display_name": "Python 3",
   "language": "python",
   "name": "python3"
  },
  "language_info": {
   "codemirror_mode": {
    "name": "ipython",
    "version": 3
   },
   "file_extension": ".py",
   "mimetype": "text/x-python",
   "name": "python",
   "nbconvert_exporter": "python",
   "pygments_lexer": "ipython3",
   "version": "3.6.13"
  }
 },
 "nbformat": 4,
 "nbformat_minor": 5
}
